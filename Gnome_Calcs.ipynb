{
 "cells": [
  {
   "cell_type": "code",
   "execution_count": 12,
   "metadata": {},
   "outputs": [],
   "source": [
    "import numpy as np\n",
    "from itertools import permutations \n",
    "import pandas as pd\n",
    "import math\n",
    "import matplotlib.pyplot as plt\n",
    "import seaborn\n",
    "import copy\n",
    "import warnings\n",
    "warnings.filterwarnings('ignore')"
   ]
  },
  {
   "cell_type": "markdown",
   "metadata": {},
   "source": [
    "#### Imitation Trials"
   ]
  },
  {
   "cell_type": "code",
   "execution_count": 64,
   "metadata": {},
   "outputs": [
    {
     "name": "stdout",
     "output_type": "stream",
     "text": [
      "(array([1, 2, 3, 4, 5]), 4, [[0, 1], [1, 2], [2, 3], [3, 4]], [0, 0, 0, 0])\n"
     ]
    }
   ],
   "source": [
    "#calculates sequence of comparisons, whether they swap and number of least necessary comparisons for an array with a certain order (for example: 6 4 3 1 5 2)\n",
    "#_f means forward and _b means backward\n",
    "def imit_seq(array):\n",
    "    aa=copy.copy(array)\n",
    "    comp_seq=[]\n",
    "    swap_or_not=[]\n",
    "    ii_f=0\n",
    "    nn=0\n",
    "    while nn<30:\n",
    "        \n",
    "        if aa[ii_f]<aa[ii_f+1]: #correct ofer and keep going forward\n",
    "            comp_seq.append([ii_f,ii_f+1])\n",
    "            swap_or_not.append(0)\n",
    "            nn+=1\n",
    "            ii_f+=1\n",
    "        else: #switch when going forward\n",
    "            comp_seq.append([ii_f,ii_f+1])\n",
    "            aa[ii_f],aa[ii_f+1]=aa[ii_f+1],aa[ii_f]\n",
    "            swap_or_not.append(1)\n",
    "            nn+=1\n",
    "\n",
    "            ii_b=ii_f\n",
    "            ii_f+=1\n",
    "\n",
    "            while nn<30:\n",
    "                if ii_b==0: #back to position zero\n",
    "                    break\n",
    "                if aa[ii_b-1]>aa[ii_b]: #switch and keep going back\n",
    "                    comp_seq.append([ii_b-1,ii_b])\n",
    "                    swap_or_not.append(1)\n",
    "                    aa[ii_b-1],aa[ii_b]=aa[ii_b],aa[ii_b-1]\n",
    "                    nn+=1\n",
    "                    ii_b-=1\n",
    "                if aa[ii_b-1]<aa[ii_b]: #stop going back\n",
    "                    if ii_b==0:\n",
    "                        break\n",
    "                    else:\n",
    "                        comp_seq.append([ii_b-1,ii_b])\n",
    "                        swap_or_not.append(0)\n",
    "                        nn+=1\n",
    "                        break\n",
    "        if (aa==np.array(range(1, len(array)+1, 1))).all():\n",
    "            if np.array([len(array)-2,len(array)-1]) in np.array(comp_seq):\n",
    "                break\n",
    "    return array,nn,comp_seq,swap_or_not\n",
    "\n",
    "\n",
    "\n",
    "\n",
    "# #verify n_nece_compare\n",
    "# arr_test=np.array([6,4,3,1,5,2]) #13\n",
    "arr_test=np.array([1,2,3,4,5]) #13\n",
    "# arr_test=np.array([2,1,4,3,6,5]) #7\n",
    "# arr_test=np.array([4,6,3,2,5,1]) #13\n",
    "\n",
    "print(imit_seq(arr_test))"
   ]
  },
  {
   "cell_type": "code",
   "execution_count": 91,
   "metadata": {},
   "outputs": [
    {
     "name": "stdout",
     "output_type": "stream",
     "text": [
      "4: [[1, 2, 3, 4, 5], [2, 1, 3, 4, 5]]\n",
      "5: [[1, 2, 3, 5, 4], [1, 2, 4, 3, 5], [1, 3, 2, 4, 5], [2, 1, 3, 5, 4], [2, 1, 4, 3, 5], [2, 3, 1, 4, 5], [3, 1, 2, 4, 5], [3, 2, 1, 4, 5]]\n",
      "6: [[1, 2, 4, 5, 3], [1, 2, 5, 3, 4], [1, 3, 2, 5, 4], [1, 3, 4, 2, 5], [1, 4, 2, 3, 5], [2, 1, 4, 5, 3], [2, 1, 5, 3, 4], [2, 3, 1, 5, 4], [2, 3, 4, 1, 5], [2, 4, 1, 3, 5], [3, 1, 2, 5, 4], [3, 1, 4, 2, 5], [3, 2, 1, 5, 4], [3, 2, 4, 1, 5], [4, 1, 2, 3, 5], [4, 2, 1, 3, 5]]\n",
      "7: [[1, 2, 5, 4, 3], [1, 3, 4, 5, 2], [1, 3, 5, 2, 4], [1, 4, 2, 5, 3], [1, 4, 3, 2, 5], [1, 5, 2, 3, 4], [2, 1, 5, 4, 3], [2, 3, 4, 5, 1], [2, 3, 5, 1, 4], [2, 4, 1, 5, 3], [2, 4, 3, 1, 5], [2, 5, 1, 3, 4], [3, 1, 4, 5, 2], [3, 1, 5, 2, 4], [3, 2, 4, 5, 1], [3, 2, 5, 1, 4], [3, 4, 1, 2, 5], [3, 4, 2, 1, 5], [4, 1, 2, 5, 3], [4, 1, 3, 2, 5], [4, 2, 1, 5, 3], [4, 2, 3, 1, 5], [4, 3, 1, 2, 5], [4, 3, 2, 1, 5], [5, 1, 2, 3, 4], [5, 2, 1, 3, 4]]\n",
      "8: [[1, 3, 5, 4, 2], [1, 4, 3, 5, 2], [1, 4, 5, 2, 3], [1, 5, 2, 4, 3], [1, 5, 3, 2, 4], [2, 3, 5, 4, 1], [2, 4, 3, 5, 1], [2, 4, 5, 1, 3], [2, 5, 1, 4, 3], [2, 5, 3, 1, 4], [3, 1, 5, 4, 2], [3, 2, 5, 4, 1], [3, 4, 1, 5, 2], [3, 4, 2, 5, 1], [3, 5, 1, 2, 4], [3, 5, 2, 1, 4], [4, 1, 3, 5, 2], [4, 1, 5, 2, 3], [4, 2, 3, 5, 1], [4, 2, 5, 1, 3], [4, 3, 1, 5, 2], [4, 3, 2, 5, 1], [5, 1, 2, 4, 3], [5, 1, 3, 2, 4], [5, 2, 1, 4, 3], [5, 2, 3, 1, 4], [5, 3, 1, 2, 4], [5, 3, 2, 1, 4]]\n",
      "9: [[1, 4, 5, 3, 2], [1, 5, 3, 4, 2], [1, 5, 4, 2, 3], [2, 4, 5, 3, 1], [2, 5, 3, 4, 1], [2, 5, 4, 1, 3], [3, 4, 5, 1, 2], [3, 4, 5, 2, 1], [3, 5, 1, 4, 2], [3, 5, 2, 4, 1], [4, 1, 5, 3, 2], [4, 2, 5, 3, 1], [4, 3, 5, 1, 2], [4, 3, 5, 2, 1], [4, 5, 1, 2, 3], [4, 5, 2, 1, 3], [5, 1, 3, 4, 2], [5, 1, 4, 2, 3], [5, 2, 3, 4, 1], [5, 2, 4, 1, 3], [5, 3, 1, 4, 2], [5, 3, 2, 4, 1], [5, 4, 1, 2, 3], [5, 4, 2, 1, 3]]\n",
      "10: [[1, 5, 4, 3, 2], [2, 5, 4, 3, 1], [3, 5, 4, 1, 2], [3, 5, 4, 2, 1], [4, 5, 1, 3, 2], [4, 5, 2, 3, 1], [4, 5, 3, 1, 2], [4, 5, 3, 2, 1], [5, 1, 4, 3, 2], [5, 2, 4, 3, 1], [5, 3, 4, 1, 2], [5, 3, 4, 2, 1], [5, 4, 1, 3, 2], [5, 4, 2, 3, 1], [5, 4, 3, 1, 2], [5, 4, 3, 2, 1]]\n"
     ]
    }
   ],
   "source": [
    "# find the order with highest number of necessary comparisons\n",
    "def most_comp(array):\n",
    "    p = permutations(array)\n",
    "\n",
    "    n_comp=[]\n",
    "    all_comp=[]\n",
    "    comp_dict={}\n",
    "    for ii in list(p):\n",
    "        # print(ii)\n",
    "        all_comp.append(np.array(ii))\n",
    "        array,nn,comp_seq,swap_or_not=imit_seq(np.array(ii))\n",
    "        n_comp.append(nn)\n",
    "        if nn not in comp_dict.keys():\n",
    "            comp_dict[nn]=[list(ii)]\n",
    "        else:\n",
    "            # print(np.array(ii))\n",
    "            ss=comp_dict[nn]\n",
    "            ss.append(list(ii))\n",
    "            comp_dict[nn]=ss\n",
    "\n",
    "    # max_comp=np.max(n_comp)\n",
    "    # max_index=np.argmax(n_comp)\n",
    "    # max_order=all_comp[max_index]\n",
    "\n",
    "    # half_comp=round(max_comp*0.5)\n",
    "    # half_index=n_comp.index(half_comp)\n",
    "    # half_order=all_comp[half_index]\n",
    "\n",
    "    comp_dict=dict(sorted(comp_dict.items()))\n",
    "    return comp_dict\n",
    "    # return max_comp,max_order,half_comp,half_order\n",
    "\n",
    "#For array with five elements\n",
    "arr_Test=np.array([1,2,3,4,5])\n",
    "comp_dict_5=most_comp(arr_Test)\n",
    "for key, value in comp_dict_5.items():\n",
    "        print(f\"{key}: {value}\")\n",
    "\n",
    "\n",
    "# #For array with eight elements\n",
    "# arr_Test=np.array([1,2,3,4,5,6,7,8])\n",
    "# comp_dict_8=most_comp(arr_Test)\n",
    "# for key, value in comp_dict_8.items():\n",
    "#         print(f\"{key}: {value}\")\n"
   ]
  }
 ],
 "metadata": {
  "kernelspec": {
   "display_name": "base",
   "language": "python",
   "name": "python3"
  },
  "language_info": {
   "codemirror_mode": {
    "name": "ipython",
    "version": 3
   },
   "file_extension": ".py",
   "mimetype": "text/x-python",
   "name": "python",
   "nbconvert_exporter": "python",
   "pygments_lexer": "ipython3",
   "version": "3.11.5"
  }
 },
 "nbformat": 4,
 "nbformat_minor": 2
}
